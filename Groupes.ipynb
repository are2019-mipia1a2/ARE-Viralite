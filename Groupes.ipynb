{
 "cells": [
  {
   "cell_type": "code",
   "execution_count": 1,
   "metadata": {},
   "outputs": [],
   "source": [
    "import math\n",
    "import random\n",
    "def nbr_amis(personne):\n",
    "    \"\"\"list[int]->int\n",
    "    renvoie le nombre d'amis d'une personne à partir d'une liste de 0 et de 1\"\"\"\n",
    "    nbr=0\n",
    "    for elt in range(len(personne)):\n",
    "        if elt==1:\n",
    "            nbr+=1\n",
    "    return nbr\n",
    "\n",
    "def choisir_amis(no_personne,n,nbr_moy):\n",
    "    \"\"\"int*int->list[int]\n",
    "    renvoie les une liste avec les amis choisis d'une personne\"\"\"\n",
    "    LR=[]\n",
    "    exclusion= [i for i in range(n) if i!=no_personne]\n",
    "    last=0\n",
    "    for elt in range(nbr_moy):\n",
    "        last=random.choice(exclusion)\n",
    "        LR.append(last)\n",
    "        exclusion.remove(last)\n",
    "    return LR\n",
    "        \n",
    "        \n",
    "            \n",
    "def donneur_info(population,donneur):\n",
    "    \"\"\"int*int->list[int]+list[int]\n",
    "    donne les matrices info et stock_info\"\"\"\n",
    "    info=[0 if i!= donneur else 1 for i in range(population)]\n",
    "    return info\n",
    "\n",
    "\n",
    "ProfilTypes= {\"classique\":0.4,\"marginal\":0.3,\"vieux\":0.1,\"geek\":0.2}\n",
    "ProfilSpecs={\"classique\":(2/13,0.3,0.7,0.02),\n",
    "             \"marginal\":(1/15,0.1,0.4, 0.01),\n",
    "             \"vieux\":(1/13,0.6,0.9,0.005),\n",
    "             \"geek\":(4/13,0.7,1,0.07)} #format nom:(proportion d'amis, proba d'envoyer, proba de recevoir)\n",
    "\n",
    "def listprofil(probaprofil,n):\n",
    "    \"\"\"dict[str:int]*int->list[str]\n",
    "    renvoie une liste de n personnes avec leur profil\"\"\"\n",
    "    LR=[]\n",
    "    nbr={\"classique\":round(n*probaprofil[\"classique\"]),\n",
    "         \"marginal\":round(n*probaprofil[\"marginal\"]),\n",
    "        \"vieux\":round(n*probaprofil[\"vieux\"]),\n",
    "        \"geek\":round(n*probaprofil[\"geek\"])}\n",
    "    nbr=[]\n",
    "    for i in probaprofil.keys():\n",
    "        nbr=nbr+[i for n in range(round(n*probaprofil[i]))]\n",
    "    for i in range(n):\n",
    "        a=random.choice(nbr)\n",
    "        LR.append(a)\n",
    "        nbr.remove(a)\n",
    "\n",
    "    return LR\n",
    "\n",
    "def simple_graph_generator_profils(listprofils, profilspecs):\n",
    "    \"\"\"list[str]*dict[str:tuple[int;int;int]]->list[list[int]]\n",
    "    renvoie une matrice liaison en tenant compte des différents profils\"\"\"\n",
    "    n=len(listprofils)\n",
    "    profils=list(profilspecs.keys())\n",
    "    LR=[[0 for elt in range(n)] for i in range(n)]\n",
    "    nbr_moy=dict((i,round(n*ProfilSpecs[i][0])) for i in profils) \n",
    "    for elt in range(n):\n",
    "        amis=choisir_amis(elt,n,nbr_moy[listprofils[elt]])\n",
    "        for elt2 in amis:\n",
    "            tolerance=round(n*1/10)\n",
    "            if nbr_amis(LR[elt]) <= nbr_moy[listprofils[elt]]+tolerance and nbr_amis(LR[elt2]) <= nbr_moy[listprofils[elt2]]+tolerance:\n",
    "                LR[elt][elt2]=1\n",
    "                LR[elt2][elt]=1\n",
    "    return LR"
   ]
  },
  {
   "cell_type": "code",
   "execution_count": 2,
   "metadata": {},
   "outputs": [
    {
     "name": "stdout",
     "output_type": "stream",
     "text": [
      "({0: [[0, 0, 0, 1, 0], [0, 0, 0, 0, 0], [0, 0, 0, 0, 0], [1, 0, 0, 0, 0], [0, 0, 0, 0, 0]], 1: [[0, 0, 1, 0], [0, 0, 0, 0], [1, 0, 0, 1], [0, 0, 1, 0]], 2: [[0, 0, 0, 0, 1, 0, 0, 0, 1], [0, 0, 1, 0, 1, 0, 1, 0, 0], [0, 1, 0, 0, 1, 1, 0, 0, 0], [0, 0, 0, 0, 1, 1, 0, 1, 0], [1, 1, 1, 1, 0, 0, 0, 0, 0], [0, 0, 1, 1, 0, 0, 1, 1, 0], [0, 1, 0, 0, 0, 1, 0, 0, 0], [0, 0, 0, 1, 0, 1, 0, 0, 0], [1, 0, 0, 0, 0, 0, 0, 0, 0]], 3: [[0, 0, 0, 1, 1, 0, 0, 0], [0, 0, 0, 0, 0, 0, 0, 1], [0, 0, 0, 1, 0, 0, 1, 1], [1, 0, 1, 0, 1, 0, 1, 0], [1, 0, 0, 1, 0, 0, 0, 0], [0, 0, 0, 0, 0, 0, 1, 1], [0, 0, 1, 1, 0, 1, 0, 0], [0, 1, 1, 0, 0, 1, 0, 0]], 4: [[0, 0, 0, 1, 0, 0], [0, 0, 1, 0, 0, 0], [0, 1, 0, 0, 1, 1], [1, 0, 0, 0, 0, 0], [0, 0, 1, 0, 0, 0], [0, 0, 1, 0, 0, 0]]}, {'classique': [2, 2, 4, 3, 2], 'marginal': [2, 1, 2, 2, 2], 'vieux': [0, 0, 1, 1, 1], 'geek': [1, 1, 2, 2, 1]})\n"
     ]
    }
   ],
   "source": [
    "def list_to_dico(l):\n",
    "    \"\"\"list[alpha]->dict[alpha:int]\n",
    "    apprends a lire connard\"\"\"\n",
    "    DR=dict()\n",
    "    for i in l:\n",
    "        if i not in DR:\n",
    "            DR[i]=1\n",
    "        else:\n",
    "            DR[i]+=1\n",
    "    return DR\n",
    "\n",
    "def organisation_dico(dico):\n",
    "    \"\"\"dict[int:dict[str:int]]->dict[str:list[int]]\n",
    "    transforme le dico propre pour la suite\"\"\"\n",
    "    D=dict((i,[0 for i in range(len(dico))]) for i in ProfilTypes)\n",
    "    for (k,v) in dico.items():\n",
    "        for (i,j) in v.items():\n",
    "            D[i][k]=j\n",
    "    return D\n",
    "\n",
    "import string\n",
    "def groupe_generator(profilspecs,probaprofil,taille):\n",
    "    \"\"\"int*list[int] -> dict[str:list[list[int]]]\n",
    "    Génere n groupes de certaine taille\"\"\"\n",
    "    profils=list(ProfilSpecs.keys())\n",
    "    n=len(taille)\n",
    "    DR=dict()\n",
    "    inventairetemp=dict((i,dict((i,0)for i in profils)) for i in range(n))\n",
    "    listprofils=[]\n",
    "    for elt in range(n):\n",
    "        listprofils=[i for i in listprofil(probaprofil,taille[elt])]\n",
    "        DR[elt]=simple_graph_generator_profils(listprofils,profilspecs)\n",
    "        inventairetemp[elt]=list_to_dico(listprofils)\n",
    "    return DR,organisation_dico(inventairetemp)\n",
    "print(groupe_generator(ProfilSpecs,ProfilTypes,[5,4,9,8,6]))\n"
   ]
  },
  {
   "cell_type": "code",
   "execution_count": 3,
   "metadata": {},
   "outputs": [
    {
     "name": "stdout",
     "output_type": "stream",
     "text": [
      "{'classique': [2, 2, 4, 3, 2], 'marginal': [2, 1, 3, 2, 2], 'vieux': [0, 0, 0, 1, 1], 'geek': [1, 1, 2, 2, 1]}\n",
      "{'classique': [0, 0, 0, 0, 0], 'marginal': [0, 0, 0, 0, 0], 'vieux': [0, 0, 0, 0, 0], 'geek': [1, 0, 1, 0, 1]}\n"
     ]
    }
   ],
   "source": [
    "\n",
    "def nbr_liaisons_entre_groupes(Dtype,profilspecs):\n",
    "    \"\"\"dict[str:list[int]]*dict[str:list[float]] -> dict[str:list[int]]\n",
    "    renvoie un dictionnaire qui associe à chaque type les gens de chaque groupe qui font des liaisons avec un autre groupe\n",
    "    \"\"\"\n",
    "    n=len(Dtype['classique'])\n",
    "    \n",
    "    DR=dict((i,[0 for i in range(n)]) for i in ProfilTypes)\n",
    "    ii=0\n",
    "    for (i,j) in Dtype.items():\n",
    "        \n",
    "        for elt in j:\n",
    "            \n",
    "            for elt2 in range(elt):\n",
    "                rdm=random.random()\n",
    "                if rdm<profilspecs[i][3]:\n",
    "                    \n",
    "                    DR[i][ii]+=1\n",
    "                            \n",
    "            ii+=1\n",
    "        ii=0                  \n",
    "            \n",
    "            \n",
    "            \n",
    "        \n",
    "    return DR\n",
    "A=groupe_generator(ProfilSpecs,ProfilTypes,[5,4,9,8,6])[1]\n",
    "print(A)\n",
    "print(nbr_liaisons_entre_groupes(A,ProfilSpecs))"
   ]
  },
  {
   "cell_type": "code",
   "execution_count": 19,
   "metadata": {},
<<<<<<< HEAD
   "outputs": [
    {
     "name": "stdout",
     "output_type": "stream",
     "text": [
      "geek\n",
      "[1, 1, 2, 2, 1]\n",
      "0\n"
     ]
    }
   ],
=======
   "outputs": [],
>>>>>>> 599b89827eab737ec8258ae62b2c5395250301b9
   "source": [
    "ProfilSpecs={\"classique\":(2/13,0.3,0.7,0.2),\n",
    "             \"marginal\":(1/15,0.1,0.4, 0.1),\n",
    "             \"vieux\":(1/13,0.6,0.9,0.05),\n",
    "             \"geek\":(4/13,0.7,1,0.7)}\n",
    "ListType=[\"classique\",\"marginal\",\"vieux\",\"geek\"]\n",
    "\n",
    "\n",
    "def type_liaisons(Type,listtype):\n",
    "    \"\"\"str -> str\n",
    "    renvoie, en fonction du type de qqn, le type de la personne avec qui elle se connecte\"\"\"\n",
    "    T=''\n",
    "    rdm1=random.random()\n",
    "    L=list(listtype)\n",
    "    L.remove(Type)\n",
    "    rdm2=random.choice(L) #à regarder si on peux mettre un choices pour mettre des poids\n",
    "    if rdm1<0.4:\n",
    "        T=Type\n",
    "    else:\n",
    "        T=rdm2\n",
    "        \n",
    "    return T\n",
    "\n",
<<<<<<< HEAD
    "T=type_liaisons(\"vieux\",ListType)\n",
=======
    "T=type_liaisons(\"geek\",ListType)\n",
>>>>>>> 599b89827eab737ec8258ae62b2c5395250301b9
    "print(T)\n",
    "A=groupe_generator(ProfilSpecs,ProfilTypes,[5,4,9,8,6])[1]\n",
    "print(A[T])\n",
    "\n",
    "def choisir_groupe(typeL,groupeP,Dtype):\n",
    "    \"\"\"str*int*dict[str:list[int] -> str\n",
    "    renvoie le groupe avec lequel la personne va effectuer une liaisons en fonction du type \n",
    "    de la personne avec qui elle effectue la liaisons\"\"\"\n",
    "    L=list(Dtype[typeL])\n",
    "    L.remove(L[groupeP])\n",
    "    nbrT=0\n",
    "    P=[]\n",
    "    rdm=random.random()\n",
    "    temp=0\n",
    "    for i in L:\n",
    "        nbrT+=i\n",
    "    for i in L:        \n",
    "        P.append(temp+i/nbrT)\n",
    "        temp+=i/nbrT\n",
    "    G=0\n",
    "    while rdm>P[G]:\n",
    "        G+=1\n",
    "        \n",
    "        \n",
    "    return G\n",
    "    \n",
    "\n",
    "g=choisir_groupe(T,0,A)\n",
    "print(g)"
   ]
<<<<<<< HEAD
=======
  },
  {
   "cell_type": "code",
   "execution_count": null,
   "metadata": {},
   "outputs": [],
   "source": [
    "def liaisons_groupe(nbr_liaisons,Dtype):\n",
    "    \"\"\"dict[str:list[int]] -> list[list[int]]\n",
    "    créé une matrice liaison entre groupes\"\"\"\n",
    "    n=len(nbr_liaisons['classique'])\n",
    "    LR=[[0 for elt in range(n)] for i in range(n)]\n",
    "    typetemp=''\n",
    "    grouptemp=42\n",
    "    for (i,j) in nbr_liaisons.items():\n",
    "        for elt1 in j:\n",
    "            if elt1!=0:\n",
    "                for elt2 in range(elt1):\n",
    "                    typetemp=type_liaisons(i,[s for s in nbr_liaisons])\n",
    "                    grouptemp=choisir_groupe(typetemp,elt1,Dtype)\n",
    "                    if elt1!=grouptemp:\n",
    "                        LR[elt1][grouptemp]+=1\n",
    "                        LR[grouptemp][elt1]+=1\n",
    "                    \n",
    "                \n",
    "    return LR\n",
    "        \n",
    "A=groupe_generator(ProfilSpecs,ProfilTypes,[5,4,9,8,6])[1]\n",
    "B=nbr_liaisons_entre_groupes(A,ProfilSpecs)\n",
    "print(B)\n",
    "print(A)    \n",
    "L=liaisons_groupe(B,A)\n",
    "print(L)\n",
    "                    \n",
    "                      "
   ]
>>>>>>> 599b89827eab737ec8258ae62b2c5395250301b9
  },
  {
   "cell_type": "code",
   "execution_count": 21,
   "metadata": {},
   "outputs": [
    {
     "name": "stdout",
     "output_type": "stream",
     "text": [
      "{'classique': [0, 0, 1, 1, 1], 'marginal': [0, 0, 0, 0, 0], 'vieux': [0, 0, 0, 0, 0], 'geek': [1, 0, 1, 0, 1]}\n",
      "{'classique': [2, 2, 3, 3, 2], 'marginal': [2, 1, 3, 2, 2], 'vieux': [0, 0, 1, 1, 1], 'geek': [1, 1, 2, 2, 1]}\n"
     ]
    },
    {
     "ename": "IndexError",
     "evalue": "Cannot choose from an empty sequence",
     "output_type": "error",
     "traceback": [
      "\u001b[1;31m---------------------------------------------------------------------------\u001b[0m",
      "\u001b[1;31mIndexError\u001b[0m                                Traceback (most recent call last)",
      "\u001b[1;32m<ipython-input-21-767748da1eeb>\u001b[0m in \u001b[0;36m<module>\u001b[1;34m\u001b[0m\n\u001b[0;32m     43\u001b[0m \u001b[0mprint\u001b[0m\u001b[1;33m(\u001b[0m\u001b[0mB\u001b[0m\u001b[1;33m)\u001b[0m\u001b[1;33m\u001b[0m\u001b[1;33m\u001b[0m\u001b[0m\n\u001b[0;32m     44\u001b[0m \u001b[0mprint\u001b[0m\u001b[1;33m(\u001b[0m\u001b[0mA\u001b[0m\u001b[1;33m)\u001b[0m\u001b[1;33m\u001b[0m\u001b[1;33m\u001b[0m\u001b[0m\n\u001b[1;32m---> 45\u001b[1;33m \u001b[0mL\u001b[0m\u001b[1;33m=\u001b[0m\u001b[0mliaisons_groupe\u001b[0m\u001b[1;33m(\u001b[0m\u001b[0mB\u001b[0m\u001b[1;33m,\u001b[0m\u001b[0mA\u001b[0m\u001b[1;33m)\u001b[0m\u001b[1;33m\u001b[0m\u001b[1;33m\u001b[0m\u001b[0m\n\u001b[0m\u001b[0;32m     46\u001b[0m \u001b[0mprint\u001b[0m\u001b[1;33m(\u001b[0m\u001b[0mL\u001b[0m\u001b[1;33m)\u001b[0m\u001b[1;33m\u001b[0m\u001b[1;33m\u001b[0m\u001b[0m\n\u001b[0;32m     47\u001b[0m \u001b[1;33m\u001b[0m\u001b[0m\n",
      "\u001b[1;32m<ipython-input-21-767748da1eeb>\u001b[0m in \u001b[0;36mliaisons_groupe\u001b[1;34m(nbr_liaisons, Dtype)\u001b[0m\n\u001b[0;32m     22\u001b[0m \u001b[1;33m\u001b[0m\u001b[0m\n\u001b[0;32m     23\u001b[0m                 \u001b[0mrdm1\u001b[0m\u001b[1;33m=\u001b[0m\u001b[0mrandom\u001b[0m\u001b[1;33m.\u001b[0m\u001b[0mchoice\u001b[0m\u001b[1;33m(\u001b[0m\u001b[0mL1\u001b[0m\u001b[1;33m)\u001b[0m\u001b[1;33m\u001b[0m\u001b[1;33m\u001b[0m\u001b[0m\n\u001b[1;32m---> 24\u001b[1;33m                 \u001b[0mrdm2\u001b[0m\u001b[1;33m=\u001b[0m\u001b[0mrandom\u001b[0m\u001b[1;33m.\u001b[0m\u001b[0mchoice\u001b[0m\u001b[1;33m(\u001b[0m\u001b[0mL2\u001b[0m\u001b[1;33m)\u001b[0m\u001b[1;33m\u001b[0m\u001b[1;33m\u001b[0m\u001b[0m\n\u001b[0m\u001b[0;32m     25\u001b[0m \u001b[1;33m\u001b[0m\u001b[0m\n\u001b[0;32m     26\u001b[0m                 \u001b[0mprint\u001b[0m\u001b[1;33m(\u001b[0m\u001b[0mi\u001b[0m\u001b[1;33m,\u001b[0m\u001b[0mrdm1\u001b[0m\u001b[1;33m,\u001b[0m\u001b[1;34m'du groupe'\u001b[0m\u001b[1;33m,\u001b[0m\u001b[0melt1\u001b[0m\u001b[1;33m,\u001b[0m \u001b[1;34m'fait une liaison avec'\u001b[0m\u001b[1;33m,\u001b[0m \u001b[0mtypetemp\u001b[0m\u001b[1;33m,\u001b[0m\u001b[0mrdm2\u001b[0m\u001b[1;33m,\u001b[0m\u001b[1;34m'du groupe'\u001b[0m\u001b[1;33m,\u001b[0m \u001b[0mgrouptemp\u001b[0m\u001b[1;33m)\u001b[0m\u001b[1;33m\u001b[0m\u001b[1;33m\u001b[0m\u001b[0m\n",
      "\u001b[1;32mD:\\anaconda\\lib\\random.py\u001b[0m in \u001b[0;36mchoice\u001b[1;34m(self, seq)\u001b[0m\n\u001b[0;32m    259\u001b[0m             \u001b[0mi\u001b[0m \u001b[1;33m=\u001b[0m \u001b[0mself\u001b[0m\u001b[1;33m.\u001b[0m\u001b[0m_randbelow\u001b[0m\u001b[1;33m(\u001b[0m\u001b[0mlen\u001b[0m\u001b[1;33m(\u001b[0m\u001b[0mseq\u001b[0m\u001b[1;33m)\u001b[0m\u001b[1;33m)\u001b[0m\u001b[1;33m\u001b[0m\u001b[1;33m\u001b[0m\u001b[0m\n\u001b[0;32m    260\u001b[0m         \u001b[1;32mexcept\u001b[0m \u001b[0mValueError\u001b[0m\u001b[1;33m:\u001b[0m\u001b[1;33m\u001b[0m\u001b[1;33m\u001b[0m\u001b[0m\n\u001b[1;32m--> 261\u001b[1;33m             \u001b[1;32mraise\u001b[0m \u001b[0mIndexError\u001b[0m\u001b[1;33m(\u001b[0m\u001b[1;34m'Cannot choose from an empty sequence'\u001b[0m\u001b[1;33m)\u001b[0m \u001b[1;32mfrom\u001b[0m \u001b[1;32mNone\u001b[0m\u001b[1;33m\u001b[0m\u001b[1;33m\u001b[0m\u001b[0m\n\u001b[0m\u001b[0;32m    262\u001b[0m         \u001b[1;32mreturn\u001b[0m \u001b[0mseq\u001b[0m\u001b[1;33m[\u001b[0m\u001b[0mi\u001b[0m\u001b[1;33m]\u001b[0m\u001b[1;33m\u001b[0m\u001b[1;33m\u001b[0m\u001b[0m\n\u001b[0;32m    263\u001b[0m \u001b[1;33m\u001b[0m\u001b[0m\n",
      "\u001b[1;31mIndexError\u001b[0m: Cannot choose from an empty sequence"
     ]
    }
   ],
   "source": [
<<<<<<< HEAD
    "def liaisons_groupe(nbr_liaisons,Dtype):\n",
    "    \"\"\"dict[str:list[int]]**2 -> list[list[int]]\n",
=======
    "\n",
    "\n",
    "def connection_interne(liaisons,groupe):\n",
    "    \"\"\"list[list[int]]*list[int]->list[list[int]]\n",
    "    \"\"\"\n",
    "    LR=[[j for j in liaisons[i]]for i in liaisons]\n",
    "    nbr=sum(groupe)\n",
    "    for i in groupe:\n",
    "        if i:\n",
    "            \n",
    "       \n",
    "        \n",
    "def liaisons_groupe(nbr_liaisons,profilspecs):\n",
    "    \"\"\"dict[str:list[int]] -> list[list[int]]\n",
>>>>>>> 599b89827eab737ec8258ae62b2c5395250301b9
    "    créé une matrice liaison entre groupes\"\"\"\n",
    "    \n",
    "    n=len(Dtype['classique'])\n",
    "    LR=[[0 for elt in range(n)] for i in range(n)]\n",
<<<<<<< HEAD
    "    \n",
    "    typetemp=''\n",
    "    grouptemp=42\n",
    "    \n",
    "    DR=dict((a,dict()) for a in range(n))\n",
    "    \n",
    "    for (i,j) in nbr_liaisons.items():\n",
    "        for elt1 in j:\n",
    "            for elt2 in range(elt1):\n",
    "                \n",
    "                typetemp=type_liaisons(i,[s for s in nbr_liaisons])\n",
    "                grouptemp=choisir_groupe(typetemp,elt1,Dtype)\n",
    "                \n",
    "                L1=[a for a in range(Dtype[i][elt1])]\n",
    "                L2=[a for a in range(Dtype[typetemp][grouptemp])]\n",
    "                \n",
    "                rdm1=random.choice(L1)\n",
    "                rdm2=random.choice(L2)\n",
    "                \n",
    "                print(i,rdm1,'du groupe',elt1, 'fait une liaison avec', typetemp,rdm2,'du groupe', grouptemp)\n",
    "                \n",
    "                if elt1 in DR:\n",
    "                    DR[elt1][grouptemp]=[i,rdm1],[typetemp,rdm2]\n",
    "                    DR[grouptemp][elt1]=[typetemp,rdm2],[i,rdm1]\n",
    "                else:\n",
    "                    DR[elt1][grouptemp]+=[i,rdm1],[typetemp,rdm2]\n",
    "                    DR[grouptemp][elt1]+=[typetemp,rdm2],[i,rdm1]\n",
    "                    \n",
    "                LR[elt1][grouptemp]+=1\n",
    "                LR[grouptemp][elt1]+=1\n",
    "                    \n",
    "                \n",
    "    return LR,DR\n",
    "        \n",
    "A=groupe_generator(ProfilSpecs,ProfilTypes,[5,4,9,8,6])[1]\n",
    "B=nbr_liaisons_entre_groupes(A,ProfilSpecs)\n",
    "print(B)\n",
    "print(A)    \n",
    "L=liaisons_groupe(B,A)\n",
    "print(L)\n",
    "         \n",
    "                      "
   ]
  },
  {
   "cell_type": "code",
   "execution_count": null,
   "metadata": {},
   "outputs": [],
   "source": [
    "\n",
    "                    "
   ]
=======
    "    type_liaisons=''\n",
    "    copyliaisons=dict((i,[j for j in ])for i in nbr_liaisons)\n",
    "    for (i,j) in nbr_liaisons:\n",
    "        for k in j:\n",
    "            if k>0:\n",
    "                rdm=random.random()\n",
    "                if rdm<0.4:\n",
    "                    type_liaisons[]\n",
    "                    "
   ]
>>>>>>> 599b89827eab737ec8258ae62b2c5395250301b9
  }
 ],
 "metadata": {
  "kernelspec": {
   "display_name": "Python 3",
   "language": "python",
   "name": "python3"
  },
  "language_info": {
   "codemirror_mode": {
    "name": "ipython",
    "version": 3
   },
   "file_extension": ".py",
   "mimetype": "text/x-python",
   "name": "python",
   "nbconvert_exporter": "python",
   "pygments_lexer": "ipython3",
<<<<<<< HEAD
   "version": "3.7.1"
=======
   "version": "3.5.3"
>>>>>>> 599b89827eab737ec8258ae62b2c5395250301b9
  }
 },
 "nbformat": 4,
 "nbformat_minor": 2
}
