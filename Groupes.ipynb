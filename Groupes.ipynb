{
 "cells": [
  {
   "cell_type": "code",
   "execution_count": 9,
   "metadata": {},
   "outputs": [],
   "source": [
    "import math\n",
    "import random\n",
    "def nbr_amis(personne):\n",
    "    \"\"\"list[int]->int\n",
    "    renvoie le nombre d'amis d'une personne à partir d'une liste de 0 et de 1\"\"\"\n",
    "    nbr=0\n",
    "    for elt in range(len(personne)):\n",
    "        if elt==1:\n",
    "            nbr+=1\n",
    "    return nbr\n",
    "\n",
    "def choisir_amis(no_personne,n,nbr_moy):\n",
    "    \"\"\"int*int->list[int]\n",
    "    renvoie les une liste avec les amis choisis d'une personne\"\"\"\n",
    "    LR=[]\n",
    "    exclusion= [i for i in range(n) if i!=no_personne]\n",
    "    last=0\n",
    "    for elt in range(nbr_moy):\n",
    "        last=random.choice(exclusion)\n",
    "        LR.append(last)\n",
    "        exclusion.remove(last)\n",
    "    return LR\n",
    "        \n",
    "        \n",
    "            \n",
    "def donneur_info(population,donneur):\n",
    "    \"\"\"int*int->list[int]+list[int]\n",
    "    donne les matrices info et stock_info\"\"\"\n",
    "    info=[0 if i!= donneur else 1 for i in range(population)]\n",
    "    return info\n",
    "\n",
    "\n",
    "ProfilTypes= {\"classique\":0.4,\"marginal\":0.3,\"vieux\":0.1,\"geek\":0.2}\n",
    "ProfilSpecs={\"classique\":(2/13,0.3,0.7,0.05),\n",
    "             \"marginal\":(1/15,0.1,0.4, 0.01),\n",
    "             \"vieux\":(1/13,0.6,0.9,0.005),\n",
    "             \"geek\":(4/13,0.7,1,0.07)} #format nom:(proportion d'amis, proba d'envoyer, proba de recevoir)\n",
    "\n",
    "def listprofil(probaprofil,n):\n",
    "    \"\"\"dict[str:int]*int->list[str]\n",
    "    renvoie une liste de n personnes avec leur profil\"\"\"\n",
    "    LR=[]\n",
    "    nbr={\"classique\":round(n*probaprofil[\"classique\"]),\n",
    "         \"marginal\":round(n*probaprofil[\"marginal\"]),\n",
    "        \"vieux\":round(n*probaprofil[\"vieux\"]),\n",
    "        \"geek\":round(n*probaprofil[\"geek\"])}\n",
    "    nbr=[]\n",
    "    for i in probaprofil.keys():\n",
    "        nbr=nbr+[i for n in range(round(n*probaprofil[i]))]\n",
    "    for i in range(n):\n",
    "        a=random.choice(nbr)\n",
    "        LR.append(a)\n",
    "        nbr.remove(a)\n",
    "\n",
    "    return LR\n",
    "\n",
    "def simple_graph_generator_profils(listprofils, profilspecs):\n",
    "    \"\"\"list[str]*dict[str:tuple[int;int;int]]->list[list[int]]\n",
    "    renvoie une matrice liaison en tenant compte des différents profils\"\"\"\n",
    "    n=len(listprofils)\n",
    "    profils=list(profilspecs.keys())\n",
    "    LR=[[0 for elt in range(n)] for i in range(n)]\n",
    "    nbr_moy=dict((i,round(n*ProfilSpecs[i][0])) for i in profils) \n",
    "    for elt in range(n):\n",
    "        amis=choisir_amis(elt,n,nbr_moy[listprofils[elt]])\n",
    "        for elt2 in amis:\n",
    "            tolerance=round(n*1/10)\n",
    "            if nbr_amis(LR[elt]) <= nbr_moy[listprofils[elt]]+tolerance and nbr_amis(LR[elt2]) <= nbr_moy[listprofils[elt2]]+tolerance:\n",
    "                LR[elt][elt2]=1\n",
    "                LR[elt2][elt]=1\n",
    "    return LR"
   ]
  },
  {
   "cell_type": "code",
   "execution_count": 15,
   "metadata": {},
   "outputs": [
    {
     "name": "stdout",
     "output_type": "stream",
     "text": [
      "{'A': [[0, 0, 0, 0, 1], [0, 0, 0, 0, 0], [0, 0, 0, 0, 0], [0, 0, 0, 0, 0], [1, 0, 0, 0, 0]], 'B': [[0, 0, 0, 0], [0, 0, 0, 1], [0, 0, 0, 1], [0, 1, 1, 0]], 'C': [[0, 0, 0, 0, 0, 1, 0, 0, 0], [0, 0, 0, 1, 0, 0, 1, 0, 0], [0, 0, 0, 1, 0, 1, 0, 0, 0], [0, 1, 1, 0, 0, 0, 0, 0, 0], [0, 0, 0, 0, 0, 1, 0, 1, 1], [1, 0, 1, 0, 1, 0, 1, 1, 0], [0, 1, 0, 0, 0, 1, 0, 0, 1], [0, 0, 0, 0, 1, 1, 0, 0, 1], [0, 0, 0, 0, 1, 0, 1, 1, 0]], 'D': [[0, 0, 1, 0, 1, 0, 0, 0], [0, 0, 1, 1, 0, 1, 0, 0], [1, 1, 0, 0, 0, 0, 1, 0], [0, 1, 0, 0, 0, 0, 0, 0], [1, 0, 0, 0, 0, 0, 1, 1], [0, 1, 0, 0, 0, 0, 0, 1], [0, 0, 1, 0, 1, 0, 0, 0], [0, 0, 0, 0, 1, 1, 0, 0]], 'E': [[0, 0, 0, 0, 0, 0], [0, 0, 0, 1, 0, 0], [0, 0, 0, 0, 0, 0], [0, 1, 0, 0, 1, 1], [0, 0, 0, 1, 0, 1], [0, 0, 0, 1, 1, 0]]}\n"
     ]
    }
   ],
   "source": [
    "import string\n",
    "def groupe_generator(profilspecs,probaprofil,taille):\n",
    "    \"\"\"int*list[int] -> dict[str:list[list[int]]]\n",
    "    Génere n groupes de certaine taille\"\"\"\n",
    "    n=len(taille)\n",
    "    alphabet=[i for i in string.ascii_uppercase]\n",
    "    DR=dict()\n",
    "    listprofils=[]\n",
    "    for elt in range(n):\n",
    "        listprofils=[i for i in listprofil(probaprofil,taille[elt])]\n",
    "        DR[alphabet[elt]]=simple_graph_generator_profils(listprofils,profilspecs)\n",
    "    return DR\n",
    "print(groupe_generator(ProfilSpecs,ProfilTypes,[5,4,9,8,6]))"
   ]
  },
  {
   "cell_type": "code",
   "execution_count": null,
   "metadata": {},
   "outputs": [],
   "source": [
    "def re"
   ]
  }
 ],
 "metadata": {
  "kernelspec": {
   "display_name": "Python 3",
   "language": "python",
   "name": "python3"
  },
  "language_info": {
   "codemirror_mode": {
    "name": "ipython",
    "version": 3
   },
   "file_extension": ".py",
   "mimetype": "text/x-python",
   "name": "python",
   "nbconvert_exporter": "python",
   "pygments_lexer": "ipython3",
   "version": "3.7.0"
  }
 },
 "nbformat": 4,
 "nbformat_minor": 2
}
