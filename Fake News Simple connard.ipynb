{
 "cells": [
  {
   "cell_type": "code",
   "execution_count": 20,
   "metadata": {},
   "outputs": [],
   "source": [
    "import networkx as nx\n",
    "import matplotlib \n",
    "import random\n",
    "import matplotlib.pyplot as plt\n"
   ]
  },
  {
   "cell_type": "code",
<<<<<<< HEAD
   "execution_count": 21,
=======
   "execution_count": 2,
>>>>>>> refs/remotes/origin/master
   "metadata": {},
   "outputs": [
    {
     "name": "stdout",
     "output_type": "stream",
     "text": [
<<<<<<< HEAD
      "['classique', 'classique', 'classique', 'vieux', 'marginal', 'marginal', 'marginal', 'marginal', 'classique', 'geek', 'geek', 'classique', 'classique', 'marginal', 'vieux', 'marginal', 'geek', 'geek', 'classique', 'classique', 'marginal', 'classique', 'classique', 'marginal', 'vieux', 'geek', 'marginal', 'classique', 'geek', 'media']\n",
=======
      "['classique', 'classique', 'marginal', 'marginal', 'classique', 'classique', 'marginal', 'vieux', 'vieux', 'geek', 'classique', 'marginal', 'marginal', 'classique', 'geek', 'classique', 'marginal', 'geek', 'classique', 'marginal', 'geek', 'marginal', 'classique', 'vieux', 'classique', 'marginal', 'classique', 'geek', 'geek', 'media']\n",
>>>>>>> refs/remotes/origin/master
      "[29]\n"
     ]
    }
   ],
   "source": [
    "ProfilTypes= {\"classique\":0.39,\"marginal\":0.3,\"vieux\":0.1,\"geek\":0.2,\"media\":0.01}\n",
    "def listprofil(probaprofil,n):\n",
    "    \"\"\"dict[str:int]*int->list[str]\n",
    "    renvoie une liste de n personnes avec leur profil\"\"\"\n",
    "    LR=[]\n",
    "    #nbr={\"classique\":round(n*probaprofil[\"classique\"]),\n",
    "       #  \"marginal\":round(n*probaprofil[\"marginal\"]),\n",
    "        #\"vieux\":round(n*probaprofil[\"vieux\"]),\n",
    "        #\"geek\":round(n*probaprofil[\"geek\"]),\n",
    "        #\"media\":round(n*probaprofil[\"media\"])}\n",
    "    nbr=[]\n",
    "    for i in probaprofil.keys():\n",
    "        nbr=nbr+[i for n in range(round(n*probaprofil[i]))]\n",
    "    for i in range(n):\n",
    "        a=random.choice(nbr)\n",
    "        LR.append(a)\n",
    "        nbr.remove(a)\n",
    "        \n",
    "    if (\"media\" in LR) == False:\n",
    "        LR.remove(\"classique\")\n",
    "        LR.append(\"media\")\n",
    "      \n",
    "    return LR\n",
    "\n",
    "def indice_media(listprofils):\n",
    "    \"\"\"renvoie liste indice medias\"\"\"\n",
    "    Li=[]\n",
    "    for i in range(len(listprofils)):\n",
    "        if listprofils[i]==\"media\":\n",
    "            Li.append(i)\n",
    "    return Li\n",
    "\n",
    "listprofils=listprofil(ProfilTypes,30)\n",
    "print(listprofils)\n",
    "print(indice_media(listprofils))"
   ]
  },
  {
   "cell_type": "code",
<<<<<<< HEAD
   "execution_count": 22,
=======
   "execution_count": 3,
>>>>>>> refs/remotes/origin/master
   "metadata": {},
   "outputs": [],
   "source": [
    "import math\n",
    "def nbr_amis(personne):\n",
    "    \"\"\"list[int]->int\n",
    "    renvoie le nombre d'amis d'une personne à partir d'une liste de 0 et de 1\"\"\"\n",
    "    nbr=0\n",
    "    for elt in personne:\n",
    "        if elt==1:\n",
    "            nbr+=1\n",
    "    return nbr\n",
    "\n",
    "def choisir_amis(no_personne,n,nbr_moy):\n",
    "    \"\"\"int*int->list[int]\n",
    "    renvoie une liste avec les amis choisis d'une personne\"\"\"\n",
    "    LR=[]\n",
    "    exclusion= [i for i in range(n) if i!=no_personne]\n",
    "    last=0\n",
    "\n",
    "    for elt in range(nbr_moy):\n",
    "        last=random.choice(exclusion)\n",
    "        LR.append(last)\n",
    "        exclusion.remove(last)\n",
    "    \n",
    "    return LR\n"
   ]
  },
  {
   "cell_type": "code",
<<<<<<< HEAD
   "execution_count": 23,
=======
   "execution_count": 4,
>>>>>>> refs/remotes/origin/master
   "metadata": {},
   "outputs": [
    {
     "name": "stdout",
     "output_type": "stream",
     "text": [
<<<<<<< HEAD
      "['geek', 'marginal', 'vieux', 'classique', 'marginal', 'geek', 'vieux', 'classique', 'classique', 'media']\n",
      "[[0, 0, 0, 0, 0, 0, 0, 0, 1, 0], [0, 0, 0, 0, 0, 0, 0, 0, 0, 0], [0, 0, 0, 0, 0, 0, 1, 0, 0, 0], [0, 0, 0, 0, 0, 1, 0, 1, 0, 0], [0, 0, 0, 0, 0, 0, 0, 0, 0, 1], [0, 0, 0, 1, 0, 0, 0, 0, 0, 0], [0, 0, 1, 0, 0, 0, 0, 1, 0, 0], [0, 0, 0, 1, 0, 0, 1, 0, 0, 0], [1, 0, 0, 0, 0, 0, 0, 0, 0, 0], [0, 0, 0, 0, 1, 0, 0, 0, 0, 0]]\n"
=======
      "['geek', 'marginal', 'classique', 'marginal', 'classique', 'classique', 'vieux', 'geek', 'vieux', 'media']\n",
      "[[0, 0, 0, 0, 0, 0, 0, 1, 0, 1], [0, 0, 0, 0, 0, 0, 0, 0, 0, 0], [0, 0, 0, 0, 1, 0, 0, 0, 0, 0], [0, 0, 0, 0, 0, 0, 0, 0, 0, 0], [0, 0, 1, 0, 0, 0, 0, 0, 0, 1], [0, 0, 0, 0, 0, 0, 1, 0, 0, 0], [0, 0, 0, 0, 0, 1, 0, 0, 1, 0], [1, 0, 0, 0, 0, 0, 0, 0, 0, 0], [0, 0, 0, 0, 0, 0, 1, 0, 0, 1], [1, 0, 0, 0, 1, 0, 0, 0, 1, 0]]\n"
>>>>>>> refs/remotes/origin/master
     ]
    }
   ],
   "source": [
    "Profiltypes= {\"classique\":0.39,\"marginal\":0.25,\"vieux\":0.15,\"geek\":0.2,\"media\":0.01}\n",
    "ProfilSpecs={\"classique\":(5/50,0.3,0.7,0.3,0),\n",
    "             \"marginal\":(2/50,0.1,0.4,0.2,0),\n",
    "             \"vieux\":(3/50,0.6,0.9,0.5,0),\n",
    "             \"geek\":(7/50,0.7,1,0.4,0),\n",
    "            \"media\":(8/50,0.2,1,1,0.8)} #format nom:(proportion d'amis, proba d'envoyer,pba de recevoir,proba d'envoyer la contre-info, proba de contredire l'info)\n",
    "def simple_graph_generator_profils(listprofils, profilspecs):\n",
    "    \"\"\"list[str]*dict[str:tuple[int;int;int]]->list[list[int]]\n",
    "    renvoie une matrice liaison en tenant compte des différents profils\"\"\"\n",
    "    n=len(listprofils)\n",
    "    profils=list(profilspecs.keys())\n",
    "    LR=[[0 for elt in range(n)] for i in range(n)]\n",
    "    nbr_moy=dict((i,round(n*ProfilSpecs[i][0])) for i in profils) \n",
    "    for elt in range(n):\n",
    "        amis=choisir_amis(elt,n,nbr_moy[listprofils[elt]])\n",
    "        for elt2 in amis:\n",
    "            #tolerance=random.randint(0,n*1/10)\n",
    "            tolerance=0\n",
    "            if nbr_amis(LR[elt]) <= nbr_moy[listprofils[elt]]+tolerance and \\\n",
    "                nbr_amis(LR[elt2]) <= nbr_moy[listprofils[elt2]]+tolerance:\n",
    "                LR[elt][elt2]=1\n",
    "                LR[elt2][elt]=1\n",
    "    return LR\n",
    "\n",
    "\n",
    "    \n",
    "listeprofils=listprofil(Profiltypes,10)\n",
    "\n",
    "print(listeprofils)\n",
    "print(simple_graph_generator_profils(listeprofils,ProfilSpecs))\n",
    "\n"
   ]
  },
  {
   "cell_type": "code",
<<<<<<< HEAD
   "execution_count": 24,
=======
   "execution_count": 5,
>>>>>>> refs/remotes/origin/master
   "metadata": {},
   "outputs": [
    {
     "name": "stdout",
     "output_type": "stream",
     "text": [
<<<<<<< HEAD
      "[0, 0, 0, 0, 0, 1, 0, 0, 0, 0, 0, 0, 0, 0, 0, 0, 0, 0, 0, 0, 0, 0, 0, 0, 0, 0, 0, 0, 0, 0, 0, 0, 0, 0, 0, 0, 0, 0, 0, 0, 0, 0, 0, 0, 0, 0, 0, 0, 0, 0]\n"
=======
      "[0, 0, 0, 0, 1, 0, 0, 0, 0, 0, 0, 0, 0, 0, 0, 0, 0, 0, 0, 0, 0, 0, 0, 0, 0, 0, 0, 0, 0, 0, 0, 0, 0, 0, 0, 0, 0, 0, 0, 0, 0, 0, 0, 0, 0, 0, 0, 0, 0, 0]\n"
>>>>>>> refs/remotes/origin/master
     ]
    }
   ],
   "source": [
    "def donneur_info(population,donneur):\n",
    "    \"\"\"int*int->list[int]+list[int]\n",
    "    donne les matrices info et stock_info\"\"\"\n",
    "    info=[0 if i!= donneur else 1 for i in range(population)]\n",
    "    return info\n",
    "\n",
    "listeprofils=listprofil(Profiltypes, 50)\n",
    "donneur=donneur_info(50,listeprofils.index(\"geek\"))\n",
    "print(donneur)"
   ]
  },
  {
   "cell_type": "code",
<<<<<<< HEAD
   "execution_count": 25,
=======
   "execution_count": 12,
>>>>>>> refs/remotes/origin/master
   "metadata": {},
   "outputs": [],
   "source": [
    "ProfilSpecs={\"classique\":(5/50,0.3,0.7,0.3,0),\n",
    "             \"marginal\":(2/50,0.1,0.4,0.2,0),\n",
    "             \"vieux\":(3/50,0.6,0.9,0.5,0),\n",
    "             \"geek\":(7/50,0.7,1,0.4,0),\n",
    "            \"media\":(8/50,0.2,1,1,0.8)}\n",
    "\n",
    "\n",
    "def passage_info_profils_avant(liaisons,info,stock_info,nbr,profilspecs,listeprofils):\n",
    "    \"\"\"list[list[int]]*list[int]*list[int]*int->list[int]\n",
    "    Transmet l'information à la géneration suivante\"\"\"\n",
    "    new_info=[0 for i in info]\n",
    "    new_stock_info=[i for i in stock_info]\n",
    "    nbr_new=nbr\n",
    "    for i in range(len(info)):\n",
    "        if info[i]==1:\n",
    "            for a in range(len(liaisons[i])):\n",
    "                rdm=random.random()\n",
    "                if liaisons[i][a]==1 and rdm<profilspecs[listeprofils[i]][1]: #a modifier pour modèle complexe\n",
    "                    rdm=random.random()\n",
    "                    if new_stock_info[a]<1 and rdm<profilspecs[listeprofils[a]][2]: #a modifier pour modèle complexe\n",
    "                        new_info[a]=1\n",
    "                        nbr_new+=1\n",
    "                        new_stock_info[a]+=1\n",
    "                    elif rdm<profilspecs[listeprofils[i]][2]:\n",
    "                        new_stock_info[a]+=1\n",
    "                \n",
    "    return new_info,new_stock_info,nbr_new\n",
    "\n"
   ]
  },
  {
   "cell_type": "code",
<<<<<<< HEAD
   "execution_count": 26,
=======
   "execution_count": 7,
>>>>>>> refs/remotes/origin/master
   "metadata": {},
   "outputs": [
    {
     "name": "stdout",
     "output_type": "stream",
     "text": [
<<<<<<< HEAD
      "['marginal', 'marginal', 'classique', 'classique', 'classique', 'classique', 'vieux', 'marginal', 'classique', 'geek', 'marginal', 'geek', 'marginal', 'classique', 'vieux', 'classique', 'geek', 'geek', 'vieux', 'media']\n",
      "[0, 1, 0, 0, 0, 0, 0, 0, 1, 0, 0, 1, 0, 0, 0, 0, 0, 0, 0, 0]\n"
=======
      "['marginal', 'marginal', 'geek', 'marginal', 'geek', 'vieux', 'vieux', 'geek', 'classique', 'classique', 'geek', 'marginal', 'classique', 'classique', 'classique', 'classique', 'marginal', 'classique', 'vieux', 'media']\n",
      "[0, 0, 0, 0, 0, 0, 1, 0, 0, 1, 0, 1, 1, 0, 0, 1, 0, 0, 0, 0]\n"
>>>>>>> refs/remotes/origin/master
     ]
    }
   ],
   "source": [
    "ProfilSpecs={\"classique\":(10/100,0.3,0.7,0.3,0.2),# % d'amis/envoyer/recevoir/envoyer contre-info/proba d'être un connard\n",
    "             \"marginal\":(8/100,0.1,0.4,0.2,0.2),\n",
    "             \"vieux\":(9/100,0.6,0.9,0.2,0.2),\n",
    "             \"geek\":(12/100,0.7,1,0.4,0.2),\n",
    "            \"media\":(15/100,0.2,0.8,1,0,0.8)}\n",
    "def mat_connard(listprofil):\n",
    "    \"\"\"-> list[int]\n",
    "    renvoie la matrice qui indique qui sont les connards\"\"\"\n",
    "    L_connard=[0 for i in range(len(listprofil))]\n",
    "    for e in range(len(listprofil)):\n",
    "        rdm=random.random()\n",
    "        if rdm<ProfilSpecs[listprofil[e]][4]:\n",
    "            L_connard[e]=1\n",
    "    return L_connard\n",
    "\n",
    "listeprofils=listprofil(Profiltypes, 20)\n",
    "print(listeprofils)\n",
    "print(mat_connard(listeprofils))\n",
    "    "
   ]
  },
  {
   "cell_type": "code",
<<<<<<< HEAD
   "execution_count": 27,
=======
   "execution_count": 22,
>>>>>>> refs/remotes/origin/master
   "metadata": {},
   "outputs": [],
   "source": [
    "def passage_info_profils_apres(liaisons,info,stock_info,contre_info,stock_contre_info,nbr,nbr_contre,profilspecs,listeprofils):\n",
    "    \"\"\"list[list[int]]*list[int]*list[int]*int->list[int]\n",
    "    Transmet l'information à la géneration suivante\"\"\"\n",
    "    new_info=[0 for i in info]\n",
    "    new_stock_info=[i for i in stock_info]\n",
    "    new_stock_contre_info=[i for i in stock_contre_info]\n",
    "    new_contre_info=[0 for i in info]\n",
    "    new_nbr=nbr\n",
    "    new_nbr_contre=nbr_contre\n",
    "    nbr_contre2=0 #correpond aux nb de personnes ayant déjà reçu la FN et qui recoivent la contre info\n",
    "    connard=mat_connard(listeprofils)\n",
    "    \n",
    "    # passer la contre-info       \n",
    "    for i in range(len(new_contre_info)):              #parcours de chaque personne\n",
    "        if contre_info[i]==1:         #si la personne a la contre-info\n",
    "            for a in range(len(liaisons[i])):          #on parcours les amis de cette personne\n",
    "                rdm=random.random()\n",
    "                if stock_info[i]==0 and connard[i]==0:    #si cette personne n'a pas eu la FN et n'est pas connard(si connard n'envoie mm pas la contre info)\n",
    "                    if liaisons[i][a]==1 and rdm<profilspecs[listeprofils[i]][3]:\n",
    "                        rdm=random.random()\n",
    "                        if new_stock_contre_info[a]<1 and rdm<profilspecs[listeprofils[a]][2]: #si l'ami n'a jamais eu la contre info\n",
<<<<<<< HEAD
    "                            new_contre_info[a]=1\n",
=======
    "                            new_contre_info[a]=1                                               #et que sa proba d'envoyer est valide\n",
>>>>>>> refs/remotes/origin/master
    "                            new_nbr_contre+=1\n",
    "                            new_stock_contre_info[a]+=1\n",
    "                            if stock_info[a]>=1:\n",
    "                                nbr_contre2+=1\n",
    "                        elif rdm<profilspecs[listeprofils[i]][2]:        #si l'ami a deja eu la contre info \n",
    "                            new_stock_contre_info[a]+=1\n",
    "                    \n",
    "                else:                     #si la personne a eu la FN\n",
    "                    rdm=random.random() \n",
    "                    if connard[i]==0:  #si pas connard\n",
    "                        if liaisons[i][a]==1 and rdm<profilspecs[listeprofils[i]][3]*1.25: #proba augmentée\n",
    "                            rdm=random.random()\n",
<<<<<<< HEAD
    "                            if new_stock_contre_info[a]<1 and rdm<profilspecs[listeprofils[a]][2]: #si la personne n'a jamais eu la contre info\n",
=======
    "                            if new_stock_contre_info[a]<1 and rdm<profilspecs[listeprofils[a][2]]: #si la personne n'a jamais eu la contre info\n",
>>>>>>> refs/remotes/origin/master
    "                                new_contre_info[a]=1\n",
    "                                new_nbr_contre+=1\n",
    "                                new_stock_contre_info[a]+=1\n",
    "                                if stock_info[a]>=1:\n",
    "                                    nbr_contre2+=1\n",
    "                            elif rdm<profilspecs[listeprofils[i]][2]:        #si la personne a deja eu la contre info \n",
    "                                new_stock_contre_info[a]+=1\n",
    "                    else:\n",
    "                        rdm=random.random()\n",
    "                        if liaisons[i][a]==1 and rdm<profilspecs[listeprofils[i]][3]*0:#complotiste donc n'envoie pas la contre info\n",
    "                            rdm=random.random()\n",
    "                            if new_stock_contre_info[a]<1 and rdm<profilspecs[listeprofils[a]][2]: #si la personne n'a jamais eu la contre info\n",
    "                                new_contre_info[a]=1\n",
    "                                new_nbr_contre+=1\n",
    "                                new_stock_contre_info[a]+=1\n",
    "                                if stock_info[a]>=1:\n",
    "                                    nbr_contre2+=1\n",
    "                            elif rdm<profilspecs[listeprofils[i]][2]:        #si la personne a deja eu la contre info \n",
    "                                new_stock_contre_info[a]+=1\n",
    "                        \n",
    "    new_nbr=new_nbr-nbr_contre2\n",
    "                \n",
    "     # passer la fake news (info)\n",
    "    for i in range(len(info)): #on parcours chaque personne\n",
    "        if info[i]==1:\n",
    "            if stock_contre_info[i]==0: #si la personne n'a jamais eu la contre info\n",
    "                for a in range(len(liaisons[i])): #parcours les amis de cette personne\n",
    "                    rdm=random.random()\n",
    "                    if liaisons[i][a]==1 and rdm<profilspecs[listeprofils[i]][1]:\n",
    "                        rdm=random.random()\n",
    "                        if new_stock_info[a]<1 and rdm<profilspecs[listeprofils[a]][2]: \n",
    "                            if new_stock_contre_info[a]>=1:\n",
    "                                new_stock_info[a]+=1\n",
    "                            else:\n",
    "                                new_stock_info[a]+=1\n",
    "                                new_info[a]=1\n",
    "                                new_nbr+=1\n",
    "                        elif rdm<profilspecs[listeprofils[i]][2]:      #si l'ami a deja recu l'info\n",
    "                            new_stock_info[a]+=1\n",
    "            elif stock_contre_info[i]>0: #la personne a deja eu la contre info\n",
    "                if connard[i]==0:\n",
    "                    for a in range(len(liaisons[i])): #parcours les amis de cette personne\n",
    "                        rdm=random.random()\n",
    "                        if liaisons[i][a]==1 and rdm<profilspecs[listeprofils[i]][1]:\n",
    "                            rdm=random.random()\n",
    "                            if new_stock_info[a]<1 and rdm<profilspecs[listeprofils[a]][2]: \n",
    "                                if new_stock_contre_info[a]>=1:\n",
    "                                    new_stock_info[a]+=1\n",
    "                                else:\n",
    "                                    new_stock_info[a]+=1\n",
    "                                    new_info[a]=1\n",
    "                                    new_nbr+=1\n",
    "                            elif rdm<profilspecs[listeprofils[i]][2]:      #si l'ami a deja recu l'info\n",
    "                                new_stock_info[a]+=1\n",
    "                else:\n",
    "                      for a in range(len(liaisons[i])): #parcours les amis de cette personne\n",
    "                        rdm=random.random()\n",
    "                        if liaisons[i][a]==1 and rdm<profilspecs[listeprofils[i]][1]*1.2:\n",
    "                            rdm=random.random()\n",
    "                            if new_stock_info[a]<1 and rdm<profilspecs[listeprofils[i]][2]: \n",
    "                                if new_stock_contre_info[a]>=1:\n",
    "                                    new_stock_info[a]+=1\n",
    "                                else:\n",
    "                                    new_stock_info[a]+=1\n",
    "                                    new_info[a]=1\n",
    "                                    new_nbr+=1\n",
    "                            elif rdm<profilspecs[listeprofils[i]][2]:      #si l'ami a deja recu l'info\n",
    "                                new_stock_info[a]+=1  \n",
    "                \n",
    "                            \n",
    "   \n",
    "    return new_info, new_stock_info, new_contre_info, new_stock_contre_info, new_nbr, new_nbr_contre\n",
    "\n",
    "    "
   ]
  },
  {
   "cell_type": "code",
<<<<<<< HEAD
   "execution_count": 28,
=======
   "execution_count": 9,
>>>>>>> refs/remotes/origin/master
   "metadata": {},
   "outputs": [],
   "source": [
    "def verif_stock_info_media(stock_info,indice_media):\n",
    "    \"\"\"retourne true si un média a recu la fake news\"\"\"\n",
    "    for i in indice_media:\n",
    "        if stock_info[i]==1:\n",
    "            return False\n",
    "    return True\n",
    "\n",
    "def passage_info_profils_fake_news_n_generations(liaisons,info,stock_info,nbr,\\\n",
    "                                                 profilspecs,listeprofils,liste_indice_media,n):\n",
    "    \"\"\"passe l'information sur n générations avec possibilité de contre info des médias\"\"\"\n",
    "        \n",
    "    stock_contre_info_temp=[0 for i in stock_info]\n",
    "    contre_info_temp=[0 for i in info]\n",
    "    nbr_temp=nbr\n",
    "    info_temp=[i for i in info]\n",
    "    stock_info_temp=[i for i in stock_info]\n",
    "    NBR=[1]\n",
    "    m=0\n",
    "    rdm=random.random()\n",
    "    while verif_stock_info_media(stock_info_temp,liste_indice_media) and m<n:\n",
    "        temp=passage_info_profils_avant(liaisons,info_temp,stock_info_temp,nbr_temp, profilspecs, listeprofils)\n",
    "        info_temp=[i for i in temp[0]]\n",
    "        stock_info_temp=[i for i in temp[1]]\n",
    "        nbr_temp=temp[2]\n",
    "        NBR.append(nbr_temp)\n",
    "        \n",
    "        m+=1\n",
    "    \n",
    "    NBR_contre=[0 for i in NBR]\n",
    "      \n",
    "    rdm=random.random()\n",
    "    c=0\n",
    "    for e in range(len(liste_indice_media)):\n",
    "        if rdm<profilspecs[\"media\"][5]:\n",
    "            stock_contre_info_temp[liste_indice_media[e]]=1\n",
    "            contre_info_temp[liste_indice_media[e]]=1\n",
    "            c+=1\n",
    "    nbr_contre_temp=c      \n",
    "    if c!=0:\n",
    "        NBR_contre.append(c)\n",
    "        for i in range(m,n+1):           #liaisons,info,stock_info,contre_info,stock_contre_info,nbr,nbr_contre,profilspecs,listeprofils\n",
    "            temp2=passage_info_profils_apres(liaisons,info_temp,stock_info_temp,contre_info_temp,stock_contre_info_temp,nbr_temp,nbr_contre_temp,profilspecs,listeprofils)\n",
    "            info_temp=temp2[0]\n",
    "            stock_info_temp=temp2[1]\n",
    "            contre_info_temp=[i for i in temp2[2]]\n",
    "            stock_contre_info_temp=[i for i in temp2[3]]\n",
    "            nbr_temp=temp2[4]       \n",
    "            nbr_contre_temp=temp2[5]\n",
    "\n",
    "            NBR.append(nbr_temp)\n",
    "            NBR_contre.append(nbr_contre_temp)\n",
    "    else:\n",
    "        for i in range(m,n+1):\n",
    "            temp=passage_info_profils_avant(liaisons,info_temp,stock_info_temp,nbr_temp, profilspecs, listeprofils)\n",
    "            info_temp=[i for i in temp[0]]\n",
    "            stock_info_temp=[i for i in temp[1]]\n",
    "            nbr_temp=temp[2]\n",
    "            NBR.append(nbr_temp)\n",
    "            NBR_contre.append(0)\n",
    "    return NBR, NBR_contre\n",
    "\n",
    "\n"
   ]
  },
  {
   "cell_type": "code",
<<<<<<< HEAD
   "execution_count": 32,
=======
   "execution_count": 10,
>>>>>>> refs/remotes/origin/master
   "metadata": {},
   "outputs": [
    {
     "data": {
<<<<<<< HEAD
      "image/png": "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\n",
=======
      "image/png": "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\n",
>>>>>>> refs/remotes/origin/master
      "text/plain": [
       "<Figure size 432x288 with 1 Axes>"
      ]
     },
     "metadata": {
      "needs_background": "light"
     },
     "output_type": "display_data"
    },
    {
     "name": "stdout",
     "output_type": "stream",
     "text": [
      "None\n",
<<<<<<< HEAD
      "([1, 12, 67, 91, 48, 6, 1, 1, 1, 1, 1, 1, 1, 1, 1, 1, 1, 1, 1, 1, 1, 1, 1, 1, 1, 1, 1, 1, 1, 1, 1, 1, 1, 1, 1, 1, 1, 1, 1, 1, 1, 1, 1, 1, 1, 1, 1, 1, 1, 1, 1, 1, 1, 1, 1, 1, 1, 1, 1, 1, 1, 1, 1, 1, 1, 1, 1, 1, 1, 1, 1, 1, 1, 1, 1, 1, 1, 1, 1, 1, 1, 1, 1, 1, 1, 1, 1, 1, 1, 1, 1, 1], [0, 0, 0, 1, 10, 53, 95, 100, 100, 100, 100, 100, 100, 100, 100, 100, 100, 100, 100, 100, 100, 100, 100, 100, 100, 100, 100, 100, 100, 100, 100, 100, 100, 100, 100, 100, 100, 100, 100, 100, 100, 100, 100, 100, 100, 100, 100, 100, 100, 100, 100, 100, 100, 100, 100, 100, 100, 100, 100, 100, 100, 100, 100, 100, 100, 100, 100, 100, 100, 100, 100, 100, 100, 100, 100, 100, 100, 100, 100, 100, 100, 100, 100, 100, 100, 100, 100, 100, 100, 100, 100, 100, 100])\n"
=======
      "([1, 13, 34, 55, 75, 72, 70, 58, 49, 43, 39, 36, 33, 32, 30, 30, 30, 30, 30, 30, 30, 30, 30, 30, 30, 30, 30, 30, 30, 30, 30, 30, 30, 30, 30, 30, 30, 30, 30, 30, 30, 30, 30, 30, 30, 30, 30, 30, 30, 30, 30, 30, 30, 30, 30, 30, 30, 30, 30, 30, 30, 30, 30, 30, 30, 30, 30, 30, 30, 30, 30, 30, 30, 30, 30, 30, 30, 30, 30, 30, 30, 30, 30, 30, 30, 30, 30, 30, 30, 30, 30, 30], [0, 0, 1, 7, 16, 22, 28, 31, 43, 52, 58, 62, 65, 68, 69, 71, 71, 71, 71, 71, 71, 71, 71, 71, 71, 71, 71, 71, 71, 71, 71, 71, 71, 71, 71, 71, 71, 71, 71, 71, 71, 71, 71, 71, 71, 71, 71, 71, 71, 71, 71, 71, 71, 71, 71, 71, 71, 71, 71, 71, 71, 71, 71, 71, 71, 71, 71, 71, 71, 71, 71, 71, 71, 71, 71, 71, 71, 71, 71, 71, 71, 71, 71, 71, 71, 71, 71, 71, 71, 71, 71, 71, 71])\n"
>>>>>>> refs/remotes/origin/master
     ]
    }
   ],
   "source": [
    "Profiltypes= {\"classique\":0.05,\"marginal\":0.05,\"vieux\":0.05,\"geek\":0.85,\"media\":0.01}\n",
    "ProfilSpecs={\"classique\":(10/100,0.3,0.7,0.3,0.2),# % d'amis/envoyer/recevoir/recevoir contre-info/lancer contre-info\n",
    "             \"marginal\":(8/100,0.1,0.4,0.1,0.2),\n",
    "             \"vieux\":(7/100,0.6,0.9,0.2,0.2),\n",
    "             \"geek\":(12/100,0.7,1,0.4,0.2),\n",
    "            \"media\":(10/100,0.2,0.8,1,0,1)}\n",
    "\n",
    "def plot_information(L_FN,L_contre_FN,taille):\n",
    "    '''\n",
    "    list[int]-> None\n",
    "    Visualise l'évolution du opartage de l'information au cours du temps\n",
    "    '''\n",
    "    plt.figure()\n",
    "    plt.plot(L_FN)\n",
    "    plt.plot(L_contre_FN)\n",
    "    plt.ylim(0,taille+5)\n",
    "    plt.ylabel(\"personnes informées\")\n",
    "    plt.xlabel(\"Génération\")\n",
    "    plt.show()\n",
    "    return\n",
    "\n",
    "\n",
    "listeprofils=listprofil(Profiltypes,100)\n",
    "#print(listeprofils)\n",
    "IndiceMedia=indice_media(listeprofils)\n",
    "#print(IndiceMedia)\n",
    "generate=simple_graph_generator_profils(listeprofils, ProfilSpecs)\n",
    "donneur=donneur_info(100,listeprofils.index(\"geek\"))\n",
    "stock=[i for i in donneur]\n",
    "final=passage_info_profils_fake_news_n_generations(generate,donneur,stock,1,ProfilSpecs,listeprofils,IndiceMedia,90)\n",
    "L_FN=final[0]\n",
    "L_contre_FN=final[1]\n",
    "taille=100\n",
    "print(plot_information(L_FN,L_contre_FN,taille))\n",
    "print(final)\n",
    "\n",
    "\n"
   ]
  },
  {
   "cell_type": "code",
   "execution_count": null,
   "metadata": {},
   "outputs": [],
   "source": []
  },
  {
   "cell_type": "code",
   "execution_count": null,
   "metadata": {},
   "outputs": [],
   "source": []
  },
  {
   "cell_type": "code",
   "execution_count": null,
   "metadata": {},
   "outputs": [],
   "source": []
  }
 ],
 "metadata": {
  "kernelspec": {
   "display_name": "Python 3",
   "language": "python",
   "name": "python3"
  },
  "language_info": {
   "codemirror_mode": {
    "name": "ipython",
    "version": 3
   },
   "file_extension": ".py",
   "mimetype": "text/x-python",
   "name": "python",
   "nbconvert_exporter": "python",
   "pygments_lexer": "ipython3",
   "version": "3.7.1"
  }
 },
 "nbformat": 4,
 "nbformat_minor": 2
}
