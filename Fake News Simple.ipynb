{
 "cells": [
  {
   "cell_type": "code",
   "execution_count": 8,
   "metadata": {},
   "outputs": [],
   "source": [
    "import networkx as nx\n",
    "import matplotlib \n",
    "import random\n",
    "import matplotlib.pyplot as plt\n"
   ]
  },
  {
   "cell_type": "code",
   "execution_count": 9,
   "metadata": {},
   "outputs": [
    {
     "name": "stdout",
     "output_type": "stream",
     "text": [
      "['vieux', 'classique', 'marginal', 'classique', 'classique', 'marginal', 'geek', 'marginal', 'classique', 'marginal', 'classique', 'geek', 'classique', 'marginal', 'geek', 'geek', 'marginal', 'vieux', 'geek', 'classique', 'marginal', 'classique', 'classique', 'vieux', 'classique', 'marginal', 'classique', 'marginal', 'geek', 'media']\n",
      "[29]\n"
     ]
    }
   ],
   "source": [
    "ProfilTypes= {\"classique\":0.39,\"marginal\":0.3,\"vieux\":0.1,\"geek\":0.2,\"media\":0.01}\n",
    "def listprofil(probaprofil,n):\n",
    "    \"\"\"dict[str:int]*int->list[str]\n",
    "    renvoie une liste de n personnes avec leur profil\"\"\"\n",
    "    LR=[]\n",
    "    #nbr={\"classique\":round(n*probaprofil[\"classique\"]),\n",
    "       #  \"marginal\":round(n*probaprofil[\"marginal\"]),\n",
    "        #\"vieux\":round(n*probaprofil[\"vieux\"]),\n",
    "        #\"geek\":round(n*probaprofil[\"geek\"]),\n",
    "        #\"media\":round(n*probaprofil[\"media\"])}\n",
    "    nbr=[]\n",
    "    for i in probaprofil.keys():\n",
    "        nbr=nbr+[i for n in range(round(n*probaprofil[i]))]\n",
    "    for i in range(n):\n",
    "        a=random.choice(nbr)\n",
    "        LR.append(a)\n",
    "        nbr.remove(a)\n",
    "        \n",
    "    if (\"media\" in LR) == False:\n",
    "        LR.remove(\"classique\")\n",
    "        LR.append(\"media\")\n",
    "      \n",
    "    return LR\n",
    "\n",
    "def indice_media(listprofils):\n",
    "    \"\"\"renvoie liste indice medias\"\"\"\n",
    "    Li=[]\n",
    "    for i in range(len(listprofils)):\n",
    "        if listprofils[i]==\"media\":\n",
    "            Li.append(i)\n",
    "    return Li\n",
    "\n",
    "listprofils=listprofil(ProfilTypes,30)\n",
    "print(listprofils)\n",
    "print(indice_media(listprofils))"
   ]
  },
  {
   "cell_type": "code",
   "execution_count": 10,
   "metadata": {},
   "outputs": [],
   "source": [
    "import math\n",
    "def nbr_amis(personne):\n",
    "    \"\"\"list[int]->int\n",
    "    renvoie le nombre d'amis d'une personne à partir d'une liste de 0 et de 1\"\"\"\n",
    "    nbr=0\n",
    "    for elt in range(len(personne)):\n",
    "        if elt==1:\n",
    "            nbr+=1\n",
    "    return nbr\n",
    "\n",
    "def choisir_amis(no_personne,n,nbr_moy):\n",
    "    \"\"\"int*int->list[int]\n",
    "    renvoie une liste avec les amis choisis d'une personne\"\"\"\n",
    "    LR=[]\n",
    "    exclusion= [i for i in range(n) if i!=no_personne]\n",
    "    last=0\n",
    "    for elt in range(nbr_moy):\n",
    "        last=random.choice(exclusion)\n",
    "        LR.append(last)\n",
    "        exclusion.remove(last)\n",
    "    return LR"
   ]
  },
  {
   "cell_type": "code",
   "execution_count": 11,
   "metadata": {},
   "outputs": [
    {
     "name": "stdout",
     "output_type": "stream",
     "text": [
      "['marginal', 'classique', 'geek', 'geek', 'classique', 'vieux', 'marginal', 'classique', 'marginal', 'media']\n",
      "[[0, 0, 0, 0, 0, 0, 1, 0, 0, 1], [0, 0, 1, 0, 1, 0, 0, 1, 0, 1], [0, 1, 0, 1, 1, 1, 0, 0, 0, 1], [0, 0, 1, 0, 1, 1, 0, 0, 0, 1], [0, 1, 1, 1, 0, 0, 0, 0, 0, 1], [0, 0, 1, 1, 0, 0, 0, 1, 0, 0], [1, 0, 0, 0, 0, 0, 0, 1, 0, 1], [0, 1, 0, 0, 0, 1, 1, 0, 1, 0], [0, 0, 0, 0, 0, 0, 0, 1, 0, 1], [1, 1, 1, 1, 1, 0, 1, 0, 1, 0]]\n"
     ]
    }
   ],
   "source": [
    "Profiltypes= {\"classique\":0.39,\"marginal\":0.3,\"vieux\":0.1,\"geek\":0.2,\"media\":0.01}\n",
    "ProfilSpecs={\"classique\":(2/13,0.3,0.7,0.3,0),\n",
    "             \"marginal\":(1/15,0.1,0.4,0.2,0),\n",
    "             \"vieux\":(1/13,0.6,0.9,0.5,0),\n",
    "             \"geek\":(4/13,0.7,1,0.4,0),\n",
    "            \"media\":(5/13,0.2,1,1,0.8)} #format nom:(proportion d'amis, proba d'envoyer,pba de recevoir,proba d'envoyer la contre-info, proba de contredire l'info)\n",
    "def simple_graph_generator_profils(listprofils, profilspecs):\n",
    "    \"\"\"list[str]*dict[str:tuple[int;int;int]]->list[list[int]]\n",
    "    renvoie une matrice liaison en tenant compte des différents profils\"\"\"\n",
    "    n=len(listprofils)\n",
    "    profils=list(profilspecs.keys())\n",
    "    LR=[[0 for elt in range(n)] for i in range(n)]\n",
    "    nbr_moy=dict((i,round(n*ProfilSpecs[i][0])) for i in profils) \n",
    "    for elt in range(n):\n",
    "        amis=choisir_amis(elt,n,nbr_moy[listprofils[elt]])\n",
    "        for elt2 in amis:\n",
    "            tolerance=random.randint(0,n*1/10)\n",
    "            if nbr_amis(LR[elt]) <= nbr_moy[listprofils[elt]]+tolerance and \\\n",
    "                nbr_amis(LR[elt2]) <= nbr_moy[listprofils[elt2]]+tolerance:\n",
    "                LR[elt][elt2]=1\n",
    "                LR[elt2][elt]=1\n",
    "    return LR\n",
    "\n",
    "\n",
    "    \n",
    "listeprofils=listprofil(Profiltypes,10)\n",
    "\n",
    "print(listeprofils)\n",
    "print(simple_graph_generator_profils(listeprofils, ProfilSpecs))\n",
    "\n"
   ]
  },
  {
   "cell_type": "code",
   "execution_count": 12,
   "metadata": {},
   "outputs": [
    {
     "name": "stdout",
     "output_type": "stream",
     "text": [
      "[0, 0, 0, 0, 0, 0, 0, 0, 0, 0, 1, 0, 0, 0, 0, 0, 0, 0, 0, 0, 0, 0, 0, 0, 0, 0, 0, 0, 0, 0, 0, 0, 0, 0, 0, 0, 0, 0, 0, 0, 0, 0, 0, 0, 0, 0, 0, 0, 0, 0]\n"
     ]
    }
   ],
   "source": [
    "def donneur_info(population,donneur):\n",
    "    \"\"\"int*int->list[int]+list[int]\n",
    "    donne les matrices info et stock_info\"\"\"\n",
    "    info=[0 if i!= donneur else 1 for i in range(population)]\n",
    "    return info\n",
    "\n",
    "listeprofils=listprofil(Profiltypes, 50)\n",
    "donneur=donneur_info(50,listeprofils.index(\"geek\"))\n",
    "print(donneur)"
   ]
  },
  {
   "cell_type": "code",
   "execution_count": 26,
   "metadata": {},
   "outputs": [
    {
     "name": "stdout",
     "output_type": "stream",
     "text": [
      "[49]\n",
      "([0, 0, 0, 0, 1, 0, 0, 0, 0, 1, 1, 0, 0, 0, 0, 1, 1, 0, 0, 0, 0, 0, 0, 0, 0, 1, 0, 0, 0, 0, 0, 0, 1, 0, 0, 1, 0, 1, 0, 0, 0, 1, 1, 0, 0, 0, 0, 0, 0, 1], [0, 0, 0, 1, 1, 0, 0, 0, 0, 1, 1, 0, 0, 0, 0, 1, 1, 0, 0, 0, 0, 0, 0, 0, 0, 1, 0, 0, 0, 0, 0, 0, 1, 0, 0, 1, 0, 1, 0, 0, 0, 1, 1, 0, 0, 0, 0, 0, 0, 1], 13)\n"
     ]
    }
   ],
   "source": [
    "ProfilSpecs={\"classique\":(2/13,0.3,0.7,0.3,0),\n",
    "             \"marginal\":(1/15,0.1,0.4,0.2,0),\n",
    "             \"vieux\":(1/13,0.6,0.9,0.5,0),\n",
    "             \"geek\":(4/13,0.7,1,0.4,0),\n",
    "            \"media\":(5/13,0.2,1,1,0.8)}\n",
    "\n",
    "def plot_information(L,taille):\n",
    "    '''\n",
    "    list[int]-> None\n",
    "    Visualise l'évolution du partage de l'information au cours du temps\n",
    "    '''\n",
    "    plt.figure()\n",
    "    plt.plot(L)\n",
    "    plt.ylim(0,taille+5)\n",
    "    plt.ylabel(\"personnes informées\")\n",
    "    plt.xlabel(\"Génération\")\n",
    "    plt.show()\n",
    "    return\n",
    "\n",
    "\n",
    "def passage_info_profils_avant(liaisons,info,stock_info,nbr,profilspecs,listeprofils):\n",
    "    \"\"\"list[list[int]]*list[int]*list[int]*int->list[int]\n",
    "    Transmet l'information à la géneration suivante\"\"\"\n",
    "    new_info=[0 for i in info]\n",
    "    new_stock_info=[i for i in stock_info]\n",
    "    new_stock_contre_info=[0 for i in stock_info]\n",
    "    new_contre_info=[0 for i in info]\n",
    "    nbr_new=nbr\n",
    "    for i in range(len(info)):\n",
    "        if info[i]==1:\n",
    "            for a in range(len(liaisons[i])):\n",
    "                rdm=random.random()\n",
    "                if liaisons[i][a]==1 and rdm<profilspecs[listeprofils[i]][1]: #a modifier pour modèle complexe\n",
    "                    rdm=random.random()\n",
    "                    if new_stock_info[a]<1 and rdm<profilspecs[listeprofils[i]][2]: #a modifier pour modèle complexe\n",
    "                        new_info[a]=1\n",
    "                        nbr_new+=1\n",
    "                        new_stock_info[a]+=1\n",
    "                    elif rdm<profilspecs[listeprofils[i]][2]:\n",
    "                        new_stock_info[a]+=1\n",
    "                \n",
    "    return new_info,new_stock_info,nbr_new\n",
    "\n",
    "listeprofils=listprofil(Profiltypes,50)\n",
    "IndiceMedia=indice_media(listeprofils)\n",
    "print(IndiceMedia)\n",
    "generate=simple_graph_generator_profils(listeprofils, ProfilSpecs)\n",
    "donneur=donneur_info(50,listeprofils.index(\"geek\"))\n",
    "stock=[i for i in donneur]\n",
    "print(passage_info_profils_avant(generate,donneur,stock,1,ProfilSpecs,listeprofils))"
   ]
  },
  {
   "cell_type": "code",
   "execution_count": 27,
   "metadata": {},
   "outputs": [
    {
     "name": "stdout",
     "output_type": "stream",
     "text": [
      "['geek', 'marginal', 'marginal', 'classique', 'geek', 'classique', 'marginal', 'classique', 'vieux', 'classique', 'geek', 'vieux', 'marginal', 'classique', 'marginal', 'classique', 'classique', 'marginal', 'geek', 'media']\n",
      "[19]\n"
     ]
    }
   ],
   "source": [
    "listprofils=listprofil(ProfilTypes,20)\n",
    "print(listprofils)\n",
    "print(indice_media(listprofils))"
   ]
  },
  {
   "cell_type": "code",
   "execution_count": 156,
   "metadata": {},
   "outputs": [
    {
     "name": "stdout",
     "output_type": "stream",
     "text": [
      "['marginal', 'classique', 'geek', 'classique', 'geek', 'marginal', 'vieux', 'marginal', 'classique', 'marginal', 'marginal', 'vieux', 'classique', 'classique', 'geek', 'classique', 'marginal', 'vieux', 'classique', 'classique', 'marginal', 'classique', 'geek', 'classique', 'classique', 'classique', 'classique', 'marginal', 'classique', 'marginal', 'geek', 'geek', 'classique', 'classique', 'classique', 'geek', 'marginal', 'marginal', 'vieux', 'geek', 'marginal', 'marginal', 'marginal', 'classique', 'geek', 'marginal', 'vieux', 'geek', 'classique', 'media']\n",
      "([0, 0, 0, 1, 0, 1, 1, 1, 0, 0, 0, 0, 0, 0, 0, 0, 0, 0, 0, 1, 0, 0, 0, 0, 1, 0, 0, 0, 0, 0, 0, 0, 0, 0, 1, 0, 1, 0, 1, 0, 1, 0, 0, 0, 0, 0, 0, 0, 1, 0], [0, 0, 1, 1, 0, 1, 1, 1, 0, 0, 0, 0, 0, 0, 0, 0, 0, 0, 0, 1, 0, 0, 0, 0, 1, 0, 0, 0, 0, 0, 0, 0, 0, 0, 1, 0, 1, 0, 1, 0, 1, 0, 0, 0, 0, 0, 0, 0, 1, 0], [0, 0, 0, 0, 0, 0, 0, 0, 0, 0, 0, 0, 0, 0, 0, 0, 0, 0, 0, 0, 0, 0, 0, 0, 0, 0, 0, 0, 0, 0, 1, 0, 0, 0, 0, 0, 0, 0, 0, 0, 0, 0, 0, 0, 1, 0, 0, 0, 0, 0], [0, 0, 1, 0, 0, 0, 0, 0, 0, 0, 0, 0, 0, 0, 0, 0, 0, 0, 0, 0, 0, 0, 0, 0, 0, 0, 0, 0, 0, 0, 1, 0, 0, 0, 0, 0, 0, 0, 0, 0, 0, 0, 0, 0, 1, 0, 0, 0, 0, 0], 12, 3)\n"
     ]
    }
   ],
   "source": [
    "def passage_info_profils_apres(liaisons,info,stock_info,contre_info,stock_contre_info,nbr,nbr_contre,profilspecs,listeprofils):\n",
    "    \"\"\"list[list[int]]*list[int]*list[int]*int->list[int]\n",
    "    Transmet l'information à la géneration suivante\"\"\"\n",
    "    new_info=[0 for i in info]\n",
    "    new_stock_info=[i for i in stock_info]\n",
    "    new_stock_contre_info=[i for i in stock_info]\n",
    "    new_contre_info=[0 for i in info]\n",
    "    new_nbr=nbr\n",
    "    new_nbr_contre=nbr_contre\n",
    "    nbr_contre2=0 #correpond aux nb de personnes ayant déjà reçu la FN et qui recoivent la contre info\n",
    "    \n",
    "    # passer la contre-info       \n",
    "    for i in range(len(new_contre_info)):              #parcours de chaque personne\n",
    "        if contre_info[i]==1:                          #si la personne a la contre-info\n",
    "            for a in range(len(liaisons[i])):          #on parcours les amis de cette personne\n",
    "                rdm=random.random()\n",
    "                if stock_info[i]==0:                   #si cette personne n'a pas la FN \n",
    "                    if liaisons[i][a]==1 and rdm<profilspecs[listeprofils[i]][3]:\n",
    "                        rdm=random.random()\n",
    "                        if new_stock_contre_info[a]<1 and rdm<profilspecs[listeprofils[i]][2]: #si l'ami n'a jamais eu la contre info\n",
    "                            new_contre_info[a]=1\n",
    "                            new_nbr_contre+=1\n",
    "                            new_stock_contre_info[a]+=1\n",
    "                            if stock_info[a]>=1:\n",
    "                                nbr_contre2+=1\n",
    "                        elif rdm<profilspecs[listeprofils[i]][2]:        #si l'ami a deja eu la contre info \n",
    "                            new_stock_contre_info[a]+=1\n",
    "                    \n",
    "                else:                     #si la personne a eu la FN\n",
    "                    rdm=random.random()\n",
    "                    if laisons[i][a]==1 and rdm<profilspecs[listeprofils[i]][3]:#*connard\n",
    "                        rdm=random.random()\n",
    "                        if new_stock_contre_info[a]<1 and rdm<profilspecs[listeprofils[i]][2]: #si la personne n'a jamais eu la contre info\n",
    "                            new_contre_info[a]=1\n",
    "                            new_nbr_contre+=1\n",
    "                            new_stock_contre_info[a]+=1\n",
    "                            if stock_info[a]>=1:\n",
    "                                nbr_contre2+=1\n",
    "                        elif rdm<profilspecs[listeprofils[i]][2]:        #si la personne a deja eu la contre info \n",
    "                            new_stock_contre_info[a]+=1                       \n",
    "    new_nbr=new_nbr-nbr_contre2\n",
    "                \n",
    "     # passer la fake news (info)\n",
    "    for i in range(len(info)): #on parcours chaque personne\n",
    "        if info[i]==1:\n",
    "            if stock_contre_info[i]==0:\n",
    "                for a in range(len(liaisons[i])): #parcours les amis de cette personne\n",
    "                    rdm=random.random()\n",
    "                    if liaisons[i][a]==1 and rdm<profilspecs[listeprofils[i]][1]:\n",
    "                        rdm=random.random()\n",
    "                        if new_stock_info[a]<1 and rdm<profilspecs[listeprofils[i]][2]: \n",
    "                            if new_stock_contre_info[a]>=1:\n",
    "                                new_stock_info[a]+=1\n",
    "                            else:\n",
    "                                new_stock_info[a]+=1\n",
    "                                new_info[a]=1\n",
    "                                new_nbr+=1\n",
    "                        elif rdm<profilspecs[listeprofils[i]][2]:      #si l'ami a deja recu l'info\n",
    "                            new_stock_info[a]+=1\n",
    "        #elif stock_contre_info[i]>0:\n",
    "            #si a est un connard:\n",
    "                #envoie quand meme la fake news\n",
    "                            \n",
    "   \n",
    "    return new_info, new_stock_info, new_contre_info, new_stock_contre_info, new_nbr, new_nbr_contre\n",
    "\n",
    "nbr_contre=1\n",
    "listeprofils=listprofil(Profiltypes,50)\n",
    "print(listeprofils)\n",
    "IndiceMedia=indice_media(listeprofils)\n",
    "#print(IndiceMedia)\n",
    "generate=simple_graph_generator_profils(listeprofils, ProfilSpecs)\n",
    "donneur=donneur_info(50,listeprofils.index(\"geek\"))\n",
    "stock=[i for i in donneur]\n",
    "stock_contre_info=[0, 0, 0, 0, 0, 0, 0, 0, 0, 0, 0, 0, 0, 0, 0, 0, 0, 0, 0, 0, 1, 0, 0, 0, 0, 0, 0, 0, 0, 0, 0, 0, 0, 0, 0, 0, 0, 0, 0, 0, 0, 0, 0, 0, 0, 0, 0, 0, 0, 0]\n",
    "print(passage_info_profils_apres(generate,donneur,stock,stock_contre_info,stock_contre_info,1,nbr_contre,ProfilSpecs,listeprofils))\n",
    "    "
   ]
  },
  {
   "cell_type": "code",
   "execution_count": 164,
   "metadata": {},
   "outputs": [
    {
     "name": "stdout",
     "output_type": "stream",
     "text": [
      "10\n",
      "1\n",
      "30\n",
      "1\n",
      "9\n",
      "1\n",
      "3\n",
      "1\n",
      "1\n",
      "1\n",
      "1\n",
      "1\n",
      "1\n",
      "1\n",
      "1\n",
      "1\n",
      "1\n",
      "1\n",
      "1\n",
      "1\n",
      "1\n",
      "1\n",
      "([1, 10, 30, 9, 3, 1, 1, 1, 1, 1, 1, 1], [0, 1, 1, 1, 1, 1, 1, 1, 1, 1, 1, 1, 1])\n"
     ]
    }
   ],
   "source": [
    "def verif_stock_info_media(stock_info,indice_media):\n",
    "    \"\"\"retourne true si un média a recu la fake news\"\"\"\n",
    "    for i in indice_media:\n",
    "        if stock_info[i]==1:\n",
    "            return True\n",
    "    return False\n",
    "\n",
    "def passage_info_profils_fake_news_n_generations(liaisons,info,stock_info,nbr,\\\n",
    "                                                 profilspecs,listeprofils,liste_indice_media,n):\n",
    "    \"\"\"passe l'information sur n générations avec possibilité de contre info des médias\"\"\"\n",
    "        \n",
    "    stock_contre_info_temp=[0 for i in stock_info]\n",
    "    contre_info_temp=[0 for i in info]\n",
    "    nbr_temp=nbr\n",
    "    info_temp=[i for i in info]\n",
    "    stock_info_temp=[i for i in stock_info]\n",
    "    NBR=[1]\n",
    "    m=0\n",
    "    rdm=random.random()\n",
    "    while verif_stock_info_media(stock_info_temp,liste_indice_media) and m<n:\n",
    "        temp=passage_info_profils_avant(liaisons,info_temp,stock_info_temp,nbr_temp, profilspecs, listeprofils)\n",
    "        info_temp=[i for i in temp[0]]\n",
    "        stock_info_temp=[i for i in temp[1]]\n",
    "        nbr_temp=temp[2]\n",
    "        NBR.append(nbr_temp)\n",
    "        \n",
    "        m+=1\n",
    "    \n",
    "    NBR_contre=[0 for i in NBR]\n",
    "    NBR_contre.append(1)\n",
    "    rdm=random.random()\n",
    "    c=0\n",
    "    for e in range(len(liste_indice_media)):\n",
    "        if rdm<profilspecs[\"media\"][4]:\n",
    "            stock_contre_info_temp[liste_indice_media[e]]=1\n",
    "            c+=1\n",
    "    nbr_contre_temp=c      \n",
    "    if c!=0:\n",
    "         \n",
    "        for i in range(m,n+1):\n",
    "            temp2=passage_info_profils_apres(liaisons,info_temp,stock_info_temp,contre_info_temp,stock_contre_info_temp,nbr,nbr_contre_temp,profilspecs,listeprofils)\n",
    "            info_temp=temp2[0]\n",
    "            stock_info_temp=temp2[1]\n",
    "            contre_info_temp=[i for i in temp2[2]]\n",
    "            stock_contre_info_temp=[i for i in temp2[3]]\n",
    "            nbr_temp=temp2[4]\n",
    "            print(nbr_temp)\n",
    "            print(nbr_contre_temp)\n",
    "            nbr_contre_temp=temp2[5]\n",
    "            NBR.append(nbr_temp)\n",
    "            NBR_contre.append(nbr_contre_temp)\n",
    "    else:\n",
    "        for i in range(m,n+1):\n",
    "            temp=passage_info_profils_avant(liaisons,info_temp,stock_info_temp,nbr_temp, profilspecs, listeprofils)\n",
    "            info_temp=[i for i in temp[0]]\n",
    "            stock_info_temp=[i for i in temp[1]]\n",
    "            nbr_temp=temp[2]\n",
    "            NBR.append(nbr_temp)\n",
    "    return NBR, NBR_contre\n",
    "\n",
    "\n",
    "listeprofils=listprofil(Profiltypes,50)\n",
    "#print(listeprofils)\n",
    "IndiceMedia=indice_media(listeprofils)\n",
    "#print(IndiceMedia)\n",
    "generate=simple_graph_generator_profils(listeprofils, ProfilSpecs)\n",
    "donneur=donneur_info(50,listeprofils.index(\"geek\"))\n",
    "stock=[i for i in donneur]\n",
    "print(passage_info_profils_fake_news_n_generations(generate,donneur,stock,1,ProfilSpecs,listeprofils,IndiceMedia,10))"
   ]
  },
  {
   "cell_type": "code",
   "execution_count": 96,
   "metadata": {},
   "outputs": [
    {
     "name": "stdout",
     "output_type": "stream",
     "text": [
      "['b', 'c', 'c', 'a']\n"
     ]
    }
   ],
   "source": [
    "def nbr_evolution_profils(liaisons,info,stock_info,nbr,profilspecs,listeprofils,n):\n",
    "    \"\"\"list[list[int]]*list[int]*list[int]*int*int->int\n",
    "   renvoie la liste du nombre de personnes ayant l'information à chaque géneration\"\"\"\n",
    "    Ltemp=[i for i in info]\n",
    "    stocktemp=[i for i in stock_info]\n",
    "    nbrtemp=nbr\n",
    "    NBR=[1]\n",
    "    for i in range(n):\n",
    "        temp=passage_info_simple_profils(liaisons,Ltemp,stocktemp,nbrtemp, ProfilSpecs, listeprofils)\n",
    "        Ltemp=[i for i in temp[0]]\n",
    "        stocktemp=[i for i in temp[1]]\n",
    "        nbrtemp=temp[2]\n",
    "        NBR.append(nbrtemp)\n",
    "    return NBR\n",
    "\n",
    "Profiltypes= {\"classique\":0.2, \"marginal\":0.7,\"vieux\":0,\"geek\":0.1}\n",
    "ProfilSpecs={\"classique\":(2/13,0.3,0.7),\n",
    "             \"marginal\":(1/15,0.1,0.4),\n",
    "             \"vieux\":(1/13,0.6,0.9),\n",
    "             \"geek\":(4/13,0.5,1)}\n",
    "listeprofils=listprofil(Profiltypes, 50)\n",
    "generate=simple_graph_generator_profils(listeprofils, ProfilSpecs)\n",
    "donneur=donneur_info(50,listeprofils.index(\"geek\"))\n",
    "stock=[i for i in donneur]\n",
    "listevo=nbr_evolution_profils(generate,donneur,stock,1,ProfilSpecs, listeprofils, 20)\n",
    "plot_information(listevo,50)\n",
    "print(listevo)"
   ]
  },
  {
   "cell_type": "code",
   "execution_count": 48,
   "metadata": {},
   "outputs": [
    {
     "data": {
      "text/plain": [
       "[1, 2, 3, 4]"
      ]
     },
     "execution_count": 48,
     "metadata": {},
     "output_type": "execute_result"
    }
   ],
   "source": []
  },
  {
   "cell_type": "code",
   "execution_count": 7,
   "metadata": {},
   "outputs": [
    {
     "name": "stdout",
     "output_type": "stream",
     "text": [
      "-1\n"
     ]
    }
   ],
   "source": [
    "a=3\n",
    "for a in range(1):\n",
    "    a-=1\n",
    "print(a)"
   ]
  },
  {
   "cell_type": "code",
   "execution_count": 24,
   "metadata": {},
   "outputs": [
    {
     "name": "stdout",
     "output_type": "stream",
     "text": [
      "[0, 0, 0, 0, 0, 0, 0, 0, 0, 0, 0, 0, 0, 0, 0, 0, 0, 0, 0, 0, 0, 0, 0, 0, 0, 0, 0, 0, 0, 0, 0, 0, 0, 0, 0, 0, 0, 0, 0, 0, 0, 0, 0, 0, 0, 0, 0, 0, 0, 0]\n"
     ]
    }
   ],
   "source": [
    "stock=[i for i in donneur]\n",
    "rdm=random.randint(0,len(stock))\n",
    "stock_contre_info=[1 if i==rdm else 0 for i in stock]\n",
    "print(stock_contre_info)"
   ]
  },
  {
   "cell_type": "code",
   "execution_count": null,
   "metadata": {},
   "outputs": [],
   "source": []
  },
  {
   "cell_type": "code",
   "execution_count": null,
   "metadata": {},
   "outputs": [],
   "source": []
  }
 ],
 "metadata": {
  "kernelspec": {
   "display_name": "Python 3",
   "language": "python",
   "name": "python3"
  },
  "language_info": {
   "codemirror_mode": {
    "name": "ipython",
    "version": 3
   },
   "file_extension": ".py",
   "mimetype": "text/x-python",
   "name": "python",
   "nbconvert_exporter": "python",
   "pygments_lexer": "ipython3",
   "version": "3.7.1"
  }
 },
 "nbformat": 4,
 "nbformat_minor": 2
}
