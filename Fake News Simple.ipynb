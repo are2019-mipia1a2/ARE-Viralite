{
 "cells": [
  {
   "cell_type": "code",
   "execution_count": 1,
   "metadata": {},
   "outputs": [
    {
     "name": "stdout",
     "output_type": "stream",
     "text": [
      "([0, 0, 0, 1, 0], [1, 0, 0, 1, 0], 2)\n",
      "([3, 1, 0, 1, 0], [0, 0, 0, 0, 0], 3)\n"
     ]
    }
   ],
   "source": [
    "import matplotlib \n",
    "\n",
    "import random\n",
    "Liaisons=[[0,1,0,1,0],[1,0,0,1,1],[1,0,0,1,1],[1,1,0,0,1],[0,1,1,0,0]]\n",
    "info=[1,0,0,0,0]  #personnes qui vont transmettre l'information\n",
    "stock_info=[1,0,0,0,0]  #nombres de fois que chaque personne à recu l'info\n",
    "nbr=1 #nbr de personnes totales à avoir eu l'information\n",
    "probas={\"Recevoir\":0.8,\"Envoyer\":0.5}\n",
    "\n",
    "\n",
    "def passage_info_simple(liaisons,info,stock_info,nbr):\n",
    "    \"\"\"list[list[int]]*list[int]*list[int]*int->list[int]\n",
    "    Transmet l'information à la géneration suivante\"\"\"\n",
    "    new_info=[0 for i in info]\n",
    "    new_stock_info=[i for i in stock_info]\n",
    "    for i in range(len(info)):\n",
    "        if info[i]==1:\n",
    "            for a in range(len(liaisons[i])):\n",
    "                rdm=random.random()\n",
    "                if liaisons[i][a]==1 and rdm<probas[\"Envoyer\"]: #a modifier pour modèle complexe\n",
    "                    if new_stock_info[a]<1 and rdm<probas[\"Recevoir\"]: #a modifier pour modèle complexe\n",
    "                        new_info[a]=1\n",
    "                        nbr+=1\n",
    "                        new_stock_info[a]+=1\n",
    "                    elif rdm<probas[\"Recevoir\"]:\n",
    "                        new_stock_info[a]+=1\n",
    "                \n",
    "    return new_info,new_stock_info,nbr\n",
    "\n",
    "print(passage_info_simple(Liaisons,info,stock_info,nbr))\n",
    "\n",
    "def transfert_n_generations(liaisons,info,stock_info,nbr,n):\n",
    "    \"\"\"list[list[int]]*list[int]*list[int]*int*int->list[int]\n",
    "    transmet l'informations n fois, retourne info,stock_info et nbr chaque étape\"\"\"\n",
    "    Itemp=[i for i in info]\n",
    "    stocktemp=[i for i in stock_info]\n",
    "    nbrtemp=nbr\n",
    "    for i in range(n):\n",
    "        temp=passage_info_simple(liaisons,Itemp,stocktemp,nbrtemp)\n",
    "        Itemp=[i for i in temp[0]]\n",
    "        stocktemp=[i for i in temp[1]]\n",
    "        nbrtemp=temp[2]\n",
    "        #print(Ltemp,stocktemp,nbrtemp)\n",
    "        if nbrtemp==len(liaisons): \n",
    "            return \"Information diffusée !\"\n",
    "        \n",
    "    return stocktemp, Itemp, nbrtemp\n",
    "print(transfert_n_generations(Liaisons,info,stock_info,nbr,5))   \n",
    "\n",
    "\n",
    "def transfert_contra(liaisons,info,stock_info,nbr,n):\n",
    "    \"\"\"\"\"\"\n",
    "    n_contra=random.randint(0,n)\n",
    "    \n",
    "    "
   ]
  },
  {
   "cell_type": "code",
   "execution_count": null,
   "metadata": {},
   "outputs": [],
   "source": []
  }
 ],
 "metadata": {
  "kernelspec": {
   "display_name": "Python 3",
   "language": "python",
   "name": "python3"
  },
  "language_info": {
   "codemirror_mode": {
    "name": "ipython",
    "version": 3
   },
   "file_extension": ".py",
   "mimetype": "text/x-python",
   "name": "python",
   "nbconvert_exporter": "python",
   "pygments_lexer": "ipython3",
   "version": "3.7.1"
  }
 },
 "nbformat": 4,
 "nbformat_minor": 2
}
